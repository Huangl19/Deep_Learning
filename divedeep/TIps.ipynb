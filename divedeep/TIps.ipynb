{
 "cells": [
  {
   "cell_type": "markdown",
   "metadata": {},
   "source": [
    "# 工程化"
   ]
  },
  {
   "cell_type": "markdown",
   "metadata": {},
   "source": [
    "## 预处理"
   ]
  },
  {
   "cell_type": "markdown",
   "metadata": {},
   "source": [
    "### 1. 图片预处理"
   ]
  },
  {
   "cell_type": "markdown",
   "metadata": {},
   "source": [
    "#### Mixup\n",
    "将两张图片的像素及 label（one-hot向量） 按照符合某个分布的权重相加"
   ]
  },
  {
   "cell_type": "markdown",
   "metadata": {},
   "source": [
    "## 优化"
   ]
  },
  {
   "cell_type": "markdown",
   "metadata": {},
   "source": [
    "### 1. 学习率衰减"
   ]
  },
  {
   "cell_type": "markdown",
   "metadata": {},
   "source": [
    "Cos 方式衰减学习率"
   ]
  },
  {
   "cell_type": "markdown",
   "metadata": {},
   "source": [
    "## 微调"
   ]
  },
  {
   "cell_type": "markdown",
   "metadata": {},
   "source": [
    "1. 训练：  \n",
    "是一个自标数据集上的正常训练任务，但使用更强的正则化：1.使用更小的学习率；2.使用更少的数据选代  \n",
    "源数据集远复杂于自标数据，通常微调效果更好"
   ]
  },
  {
   "cell_type": "markdown",
   "metadata": {},
   "source": [
    "2. 重用分类器权重  \n",
    "源数据集可能也有目标数据中的部分标号，可以使用预训练好模型分类器中对应标号对应的向量来做初始化"
   ]
  },
  {
   "cell_type": "markdown",
   "metadata": {},
   "source": [
    "3. 固定一些层（数据集非常小的时候）  \n",
    "神经网络通常学习有层次的特征表示，低层次的特征更加通用，高层次的特征则更跟数据集相关  \n",
    "可以固定底部一些层的参数，不参与更新（更强的正则）"
   ]
  },
  {
   "cell_type": "markdown",
   "metadata": {},
   "source": [
    "4. 微调的归一化很重要，需要保证在训练目标模型时，输入的数据集特征尺度和原始尺度相同（例如相同的数据预处理方式，也可以在模型最开始加上一层BN）  \n",
    "5. 如果源数据集包含目标数据集label，可以将原输出层label对应的向量参数提取出来当fc的初始化。"
   ]
  },
  {
   "cell_type": "markdown",
   "metadata": {},
   "source": []
  }
 ],
 "metadata": {
  "language_info": {
   "name": "python"
  }
 },
 "nbformat": 4,
 "nbformat_minor": 2
}
